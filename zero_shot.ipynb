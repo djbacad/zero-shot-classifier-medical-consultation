{
 "cells": [
  {
   "cell_type": "markdown",
   "metadata": {},
   "source": [
    "##### Import Libs"
   ]
  },
  {
   "cell_type": "code",
   "execution_count": 1,
   "metadata": {},
   "outputs": [
    {
     "name": "stderr",
     "output_type": "stream",
     "text": [
      "c:\\Users\\djbac\\anaconda3\\envs\\torch-gpu\\lib\\site-packages\\tqdm\\auto.py:21: TqdmWarning: IProgress not found. Please update jupyter and ipywidgets. See https://ipywidgets.readthedocs.io/en/stable/user_install.html\n",
      "  from .autonotebook import tqdm as notebook_tqdm\n"
     ]
    }
   ],
   "source": [
    "import pandas as pd\n",
    "import swifter\n",
    "from transformers import pipeline\n",
    "from datasets import load_dataset"
   ]
  },
  {
   "cell_type": "markdown",
   "metadata": {},
   "source": [
    "#### Load the Dataset"
   ]
  },
  {
   "cell_type": "code",
   "execution_count": 2,
   "metadata": {},
   "outputs": [],
   "source": [
    "df = pd.read_csv(\"datasets\\mtsamples.csv\", index_col=0)"
   ]
  },
  {
   "cell_type": "code",
   "execution_count": 3,
   "metadata": {},
   "outputs": [],
   "source": [
    "# Filtering to 12 classes for simplicity\n",
    "list_med_sp = [\n",
    "    \" Allergy / Immunology\",\n",
    "    \" Bariatrics\",\n",
    "    \" Cardiovascular / Pulmonary\",\n",
    "    \" Urology\",\n",
    "    \" Dentistry\",\n",
    "    \" Rheumatology\",\n",
    "    \" Radiology\",\n",
    "    \" Psychiatry / Psychology\",\n",
    "    \" Podiatry\",\n",
    "    \" Orthopedic\",\n",
    "    \" Opthalmology\",\n",
    "    \" Neurology\"\n",
    "]\n",
    "# Filter the DataFrame\n",
    "df = df[df['medical_specialty'].isin(list_med_sp)]\n",
    "\n",
    "# df_stratified, _ = train_test_split(df, train_size=0.03, stratify=df['medical_specialty'])"
   ]
  },
  {
   "cell_type": "markdown",
   "metadata": {},
   "source": [
    "#### Specify the candidate labels for the ZSC"
   ]
  },
  {
   "cell_type": "code",
   "execution_count": 4,
   "metadata": {},
   "outputs": [],
   "source": [
    "candidate_labels = df[\"medical_specialty\"].unique().tolist()"
   ]
  },
  {
   "cell_type": "markdown",
   "metadata": {},
   "source": [
    "#### Create the Classifier"
   ]
  },
  {
   "cell_type": "code",
   "execution_count": 5,
   "metadata": {},
   "outputs": [],
   "source": [
    "classifier = (\n",
    "    pipeline(task=\"zero-shot-classification\",\n",
    "             model=\"tasksource/deberta-small-long-nli\"\n",
    "    )\n",
    ")"
   ]
  },
  {
   "cell_type": "code",
   "execution_count": 6,
   "metadata": {},
   "outputs": [],
   "source": [
    "# Function to classify a single description\n",
    "def classify_description(description):\n",
    "    result = classifier(description, candidate_labels)\n",
    "    # Find the index of the maximum score\n",
    "    max_index = result['scores'].index(max(result['scores']))\n",
    "    # Return the label with the highest score\n",
    "    return result['labels'][max_index], result['scores'][max_index]"
   ]
  },
  {
   "cell_type": "markdown",
   "metadata": {},
   "source": [
    "#### Zero-shot"
   ]
  },
  {
   "cell_type": "code",
   "execution_count": 172,
   "metadata": {},
   "outputs": [
    {
     "name": "stderr",
     "output_type": "stream",
     "text": [
      "Pandas Apply: 100%|██████████| 1543/1543 [49:52<00:00,  1.94s/it]\n"
     ]
    }
   ],
   "source": [
    "df[['zero_shot_class', 'score']] = (\n",
    "    df['description']\n",
    "    .swifter.progress_bar(enable=True)\n",
    "    .apply(classify_description)  # Apply function directly\n",
    "    .apply(pd.Series)  # Convert tuple/list output into DataFrame\n",
    ")"
   ]
  },
  {
   "cell_type": "code",
   "execution_count": 174,
   "metadata": {},
   "outputs": [
    {
     "name": "stdout",
     "output_type": "stream",
     "text": [
      "Accuracy: 0.53\n",
      "Classification Report:\n",
      "                             precision    recall  f1-score   support\n",
      "\n",
      "       Allergy / Immunology       0.16      1.00      0.27         7\n",
      "                 Bariatrics       0.75      0.83      0.79        18\n",
      " Cardiovascular / Pulmonary       0.81      0.23      0.36       372\n",
      "                  Dentistry       0.76      0.81      0.79        27\n",
      "                  Neurology       0.71      0.31      0.44       223\n",
      "                 Orthopedic       0.71      0.74      0.72       355\n",
      "                   Podiatry       0.55      0.38      0.45        47\n",
      "    Psychiatry / Psychology       0.78      0.74      0.76        53\n",
      "                  Radiology       0.31      0.76      0.44       273\n",
      "               Rheumatology       0.18      0.40      0.25        10\n",
      "                    Urology       0.93      0.59      0.73       158\n",
      "\n",
      "                   accuracy                           0.53      1543\n",
      "                  macro avg       0.60      0.62      0.54      1543\n",
      "               weighted avg       0.68      0.53      0.53      1543\n",
      "\n",
      "Confusion Matrix:\n",
      "[[  7   0   0   0   0   0   0   0   0   0   0]\n",
      " [  0  15   0   0   0   1   0   0   2   0   0]\n",
      " [ 21   3  87   2   8  24   0   1 217   8   1]\n",
      " [  0   0   0  22   0   5   0   0   0   0   0]\n",
      " [  2   1   2   2  70  23   2  10 107   3   1]\n",
      " [  4   0   0   0   4 261  10   0  73   2   1]\n",
      " [  1   0   0   0   0  23  18   0   5   0   0]\n",
      " [  1   0   0   0   5   0   0  39   4   2   2]\n",
      " [  3   1  19   2  10  23   3   0 208   2   2]\n",
      " [  3   0   0   0   0   3   0   0   0   4   0]\n",
      " [  3   0   0   1   1   5   0   0  53   1  94]]\n"
     ]
    }
   ],
   "source": [
    "from sklearn.metrics import classification_report, accuracy_score, confusion_matrix\n",
    "\n",
    "# Assuming 'y_true' is the actual label and 'y_pred' is the predicted label\n",
    "y_true = df['medical_specialty']\n",
    "y_pred = df['zero_shot_class']\n",
    "\n",
    "# Get accuracy score\n",
    "accuracy = accuracy_score(y_true, y_pred)\n",
    "print(f\"Accuracy: {accuracy:.2f}\")\n",
    "\n",
    "# Get classification report\n",
    "print(\"Classification Report:\")\n",
    "print(classification_report(y_true, y_pred))\n",
    "\n",
    "# Get confusion matrix\n",
    "print(\"Confusion Matrix:\")\n",
    "print(confusion_matrix(y_true, y_pred))\n"
   ]
  },
  {
   "cell_type": "code",
   "execution_count": null,
   "metadata": {},
   "outputs": [],
   "source": []
  }
 ],
 "metadata": {
  "kernelspec": {
   "display_name": "latest-cpu",
   "language": "python",
   "name": "python3"
  },
  "language_info": {
   "codemirror_mode": {
    "name": "ipython",
    "version": 3
   },
   "file_extension": ".py",
   "mimetype": "text/x-python",
   "name": "python",
   "nbconvert_exporter": "python",
   "pygments_lexer": "ipython3",
   "version": "3.10.11"
  }
 },
 "nbformat": 4,
 "nbformat_minor": 2
}

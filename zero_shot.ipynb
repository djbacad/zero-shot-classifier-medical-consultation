{
 "cells": [
  {
   "cell_type": "code",
   "execution_count": 24,
   "metadata": {},
   "outputs": [],
   "source": [
    "import pandas as pd\n",
    "df = pd.read_csv(\"datasets\\mtsamples.csv\", index_col=0)"
   ]
  },
  {
   "cell_type": "code",
   "execution_count": 25,
   "metadata": {},
   "outputs": [],
   "source": [
    "candidate_labels = df[\"medical_specialty\"].unique().tolist()"
   ]
  },
  {
   "cell_type": "code",
   "execution_count": 26,
   "metadata": {},
   "outputs": [],
   "source": [
    "from transformers import pipeline\n",
    "classifier = (\n",
    "    pipeline(task=\"zero-shot-classification\",\n",
    "             model=\"facebook/bart-large-mnli\"\n",
    "    )\n",
    ")"
   ]
  },
  {
   "cell_type": "code",
   "execution_count": 27,
   "metadata": {},
   "outputs": [],
   "source": [
    "# Function to classify a single description\n",
    "def classify_description(description):\n",
    "    result = classifier(description, candidate_labels)\n",
    "    # Find the index of the maximum score\n",
    "    max_index = result['scores'].index(max(result['scores']))\n",
    "    # Return the label with the highest score\n",
    "    return result['labels'][max_index], result['scores'][max_index]"
   ]
  },
  {
   "cell_type": "code",
   "execution_count": 28,
   "metadata": {},
   "outputs": [],
   "source": [
    "# Apply the function to each row in the \"description\" column\n",
    "df[['zero_shot_class', 'score']] = df['description'].apply(lambda desc: pd.Series(classify_description(desc)))\n"
   ]
  }
 ],
 "metadata": {
  "kernelspec": {
   "display_name": "latest-cpu",
   "language": "python",
   "name": "python3"
  },
  "language_info": {
   "codemirror_mode": {
    "name": "ipython",
    "version": 3
   },
   "file_extension": ".py",
   "mimetype": "text/x-python",
   "name": "python",
   "nbconvert_exporter": "python",
   "pygments_lexer": "ipython3",
   "version": "3.10.11"
  }
 },
 "nbformat": 4,
 "nbformat_minor": 2
}
